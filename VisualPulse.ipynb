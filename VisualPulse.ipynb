{
 "cells": [
  {
   "cell_type": "code",
   "execution_count": 1,
   "id": "3f4d9fb1-321b-4989-bdef-eee6c06aa542",
   "metadata": {},
   "outputs": [
    {
     "name": "stdout",
     "output_type": "stream",
     "text": [
      "Video size:  640 x 480\n"
     ]
    }
   ],
   "source": [
    "#VisualPulse\n",
    "#Devin Holz, Troy Cunningham, Cada Kato\n",
    "\n",
    "import numpy as np\n",
    "import cv2\n",
    "import sys\n",
    "\n",
    "#initialize webcam capture\n",
    "cap = cv2.VideoCapture(0)\n",
    "\n",
    "# Set video size to 640 by 480\n",
    "cap.set(cv2.CAP_PROP_FRAME_WIDTH, 640)\n",
    "cap.set(cv2.CAP_PROP_FRAME_HEIGHT, 480)\n",
    "frame_width = int(cap.get(cv2.CAP_PROP_FRAME_WIDTH))\n",
    "frame_height = int(cap.get(cv2.CAP_PROP_FRAME_HEIGHT))\n",
    "print(\"Video size: \", frame_width, \"x\", frame_height)\n",
    "\n",
    "#image properties\n",
    "FrameRate = 30\n",
    "videoChannels = 3\n",
    "levels = 3\n",
    "minFrequency = 1.0\n",
    "maxFrequency = 2.0\n",
    "bufferSize = 30\n",
    "bufferIndex = 0\n",
    "alpha = 50\n",
    "\n",
    "\n",
    "def buildGauss(frame, levels):\n",
    "    pyramid = [frame]\n",
    "    for level in range(levels):\n",
    "        frame = cv2.pyrDown(frame)\n",
    "        pyramid.append(frame)\n",
    "    return pyramid\n",
    "\n",
    "def reconstructFrame(pyramid, index, levels):\n",
    "    filteredFrame = pyramid[index]\n",
    "    for level in range(levels):\n",
    "        filteredFrame = cv2.pyrUp(filteredFrame)\n",
    "    filteredFrame = filteredFrame[:frame_height, :frame_width]\n",
    "    return filteredFrame\n",
    "\n",
    "# Initialize Gaussian Pyramid\n",
    "firstFrame = np.zeros((frame_height, frame_width, videoChannels))\n",
    "firstGauss = buildGauss(firstFrame, levels+1)[levels]\n",
    "videoGauss = np.zeros((bufferSize, firstGauss.shape[0], firstGauss.shape[1], videoChannels))\n",
    "fourierTransformAvg = np.zeros((bufferSize))\n",
    "\n",
    "# Bandpass Filter for Specified Frequencies\n",
    "frequencies = (1.0*FrameRate) * np.arange(bufferSize) / (1.0*bufferSize)\n",
    "mask = (frequencies >= minFrequency) & (frequencies <= maxFrequency)\n",
    "\n",
    "# Heart Rate Calculation Variables\n",
    "bpmCalculationFrequency = 15\n",
    "bpmBufferIndex = 0\n",
    "bpmBufferSize = 10\n",
    "bpmBuffer = np.zeros((bpmBufferSize))\n",
    "\n",
    "\n",
    "#Text Properties\n",
    "font = cv2.FONT_HERSHEY_SIMPLEX\n",
    "loadingTextLocation = (20, 30)\n",
    "bpmTextLocation = (frame_width//2 + 5, 30)\n",
    "fontScale = 1\n",
    "fontColor = (255,255,255)\n",
    "lineType = 2\n",
    "boxColor = (0, 255, 0)\n",
    "boxWeight = 3\n",
    "\n",

def calculate_beatspermin(bpmBuffer, frameRate):
    # Detect peaks in the time-domain signal
    peaks, _ = find_peaks(bpmBuffer, distance=frameRate*0.5)  # Ensure peaks are at least 0.5 seconds apart
               #find_peaks identifies peaks in 1D data       
               #distance converts time b/w two detected peaks into 0.5 second/0.5 secs apart
               #bpmBuffer holds the frames that calculate heart rate

    
    # Calculate the time differences between peaks
    if len(peaks) >= 2:  #len returns the length of an object. in this case length of the peaks
        peak_intervals = np.diff(peaks) / frameRate  # Time interval between peaks (in seconds)
        #we divide peaks/framerates to essentially convert our frame index into time values
    
        
        # Calculates avg. interval between peaks (seconds)
        avg_interval = np.mean(peak_intervals)
        
        # Calculate BPM: BPM = 60/avg. interval (in seconds)
        bpm = 60 / avg_interval
    else:
        bpm = 0  # Not enough peaks detected for bpm calculation
        
    return bpm



    "\n",
    "\n",
    "\n",
    "def main(bufferIndex):\n",
    "    \n",
    "    while(cap.isOpened()):\n",
    "\n",
    "        #reads frame from camera\n",
    "        ret, frame = cap.read()\n",
    "\n",
    "        if ret == True:\n",
    "            \n",
    "            # Construct Gaussian Pyramid\n",
    "            videoGauss[bufferIndex] = buildGauss(frame, levels+1)[levels]\n",
    "            fourierTransform = np.fft.fft(videoGauss, axis=0)\n",
    "\n",
    "            # Bandpass Filter\n",
    "            fourierTransform[mask == False] = 0\n",
    "\n",
    "            # Amplify\n",
    "            filtered = np.real(np.fft.ifft(fourierTransform, axis=0))\n",
    "            filtered = filtered * alpha\n",
    "\n",
    "            # Reconstruct Resulting Frame\n",
    "            filteredFrame = reconstructFrame(filtered, bufferIndex, levels)\n",
    "            outputFrame = frame + filteredFrame\n",
    "            outputFrame = cv2.convertScaleAbs(outputFrame)\n",
    "\n",
    "            bufferIndex = (bufferIndex + 1) % bufferSize\n",
    "            \n",
    "\n",
    "            # Display the resulting frame\n",
    "            cv2.imshow('VisualPulse', outputFrame)\n",
    "\n",
    "            # Press Q on keyboard to exit\n",
    "            if cv2.waitKey(20) & 0xFF == ord('q'):\n",
    "                break\n",
    "        else:\n",
    "            break\n",
    "\n",
    "    cap.release()\n",
    "    cv2.destroyAllWindows()\n",
    "\n",
    "\n",
    "main(bufferIndex)"
   ]
  },
  {
   "cell_type": "code",
   "execution_count": null,
   "id": "7cb36034-86bf-4800-905b-b91854bc98bd",
   "metadata": {},
   "outputs": [],
   "source": []
  }
 ],
 "metadata": {
  "kernelspec": {
   "display_name": "Python 3 (ipykernel)",
   "language": "python",
   "name": "python3"
  },
  "language_info": {
   "codemirror_mode": {
    "name": "ipython",
    "version": 3
   },
   "file_extension": ".py",
   "mimetype": "text/x-python",
   "name": "python",
   "nbconvert_exporter": "python",
   "pygments_lexer": "ipython3",
   "version": "3.12.7"
  }
 },
 "nbformat": 4,
 "nbformat_minor": 5
}
